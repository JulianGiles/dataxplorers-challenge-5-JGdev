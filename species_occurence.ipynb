{
 "cells": [
  {
   "cell_type": "code",
   "execution_count": null,
   "id": "5845c2df",
   "metadata": {},
   "outputs": [],
   "source": [
    "import matplotlib.pyplot as plt\n",
    "\n",
    "import pandas as pd\n",
    "import geopandas\n",
    "from geodatasets import get_path\n",
    "\n",
    "from dwca.read import DwCAReader"
   ]
  },
  {
   "cell_type": "markdown",
   "id": "2a1a470f-195b-44e7-bcc7-d925bf05cd0a",
   "metadata": {},
   "source": [
    "# Wolf data set"
   ]
  },
  {
   "cell_type": "code",
   "execution_count": null,
   "id": "cf1c97aa-61d6-4d48-b091-5ebe21319b02",
   "metadata": {},
   "outputs": [],
   "source": [
    "useful_columns = [\"id\", \"eventDate\", \"decimalLatitude\", \"decimalLongitude\", \"coordinateUncertaintyInMeters\", \n",
    "                  \"scientificName\", \"level0Gid\", \"level0Name\", \"level1Gid\", \"level1Name\", \"level2Gid\", \"level2Name\", \n",
    "                  \"level3Gid\", \"level3Name\", \"geodeticDatum\"]"
   ]
  },
  {
   "cell_type": "code",
   "execution_count": null,
   "id": "b16b9803-e5c2-42c2-936d-4236556673c0",
   "metadata": {},
   "outputs": [],
   "source": [
    "with DwCAReader(\"./datasets/0054964-231002084531237.zip\") as dwca:\n",
    "    df = dwca.pd_read('occurrence.txt', parse_dates=True)\n",
    "    df = df[useful_columns]\n",
    "    assert (df[\"geodeticDatum\"][0] == df[\"geodeticDatum\"]).all(), \"Ovservations do not share coordinate reference system!\"\n",
    "    gdf = geopandas.GeoDataFrame(df, \n",
    "                                 geometry=geopandas.points_from_xy(df[\"decimalLongitude\"], df[\"decimalLatitude\"]), \n",
    "                                 crs=df[\"geodeticDatum\"][0])"
   ]
  },
  {
   "cell_type": "code",
   "execution_count": null,
   "id": "6f165423-64d6-4081-8dfe-84abe6a02d28",
   "metadata": {},
   "outputs": [],
   "source": [
    "world = geopandas.read_file(get_path(\"naturalearth.land\"))\n",
    "\n",
    "# We restrict to South America.\n",
    "ax = world.clip([-11, 45, 24, 60]).plot(color=\"white\", edgecolor=\"black\")\n",
    "\n",
    "# We can now plot our ``GeoDataFrame``.\n",
    "gdf.plot(ax=ax, color=\"red\")\n",
    "\n",
    "plt.show()"
   ]
  }
 ],
 "metadata": {
  "kernelspec": {
   "display_name": "Python 3 (ipykernel)",
   "language": "python",
   "name": "python3"
  },
  "language_info": {
   "codemirror_mode": {
    "name": "ipython",
    "version": 3
   },
   "file_extension": ".py",
   "mimetype": "text/x-python",
   "name": "python",
   "nbconvert_exporter": "python",
   "pygments_lexer": "ipython3",
   "version": "3.12.0"
  }
 },
 "nbformat": 4,
 "nbformat_minor": 5
}
