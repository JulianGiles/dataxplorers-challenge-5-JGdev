{
 "cells": [
  {
   "cell_type": "markdown",
   "id": "c775a80e",
   "metadata": {},
   "source": [
    "# Bioclimatic variables"
   ]
  },
  {
   "cell_type": "markdown",
   "id": "cad03ea7",
   "metadata": {},
   "source": [
    "Compute the bioclimatic variables as defined in https://pubs.usgs.gov/ds/691/ds691.pdf."
   ]
  },
  {
   "cell_type": "code",
   "execution_count": null,
   "id": "709f304b",
   "metadata": {},
   "outputs": [],
   "source": [
    "import xarray as xr\n",
    "import matplotlib.pyplot as plt\n",
    "import numpy as np\n",
    "from os.path import isfile"
   ]
  },
  {
   "cell_type": "code",
   "execution_count": null,
   "id": "e5b7d8ff",
   "metadata": {},
   "outputs": [],
   "source": [
    "dsspat = xr.open_zarr(\"https://openstack.cebitec.uni-bielefeld.de:8080/swift/v1/DWDCube/cube_spatial.zarr/\")\n",
    "dstime = xr.open_zarr(\"https://openstack.cebitec.uni-bielefeld.de:8080/swift/v1/DWDCube/cube_temporal.zarr/\")\n",
    "subset = dstime.isel(Time=range(0, 2*365+1)) #two year subset for faster testing"
   ]
  },
  {
   "cell_type": "markdown",
   "id": "e8216152",
   "metadata": {},
   "source": [
    "# Intermediate variables"
   ]
  },
  {
   "cell_type": "markdown",
   "id": "ee0e4713",
   "metadata": {},
   "source": [
    "### Temperature"
   ]
  },
  {
   "cell_type": "code",
   "execution_count": null,
   "id": "567e46e0",
   "metadata": {},
   "outputs": [],
   "source": [
    "# Monthly max:\n",
    "if isfile(\"./datasets/tas_mmax.nc\"):\n",
    "    tas_mmax = xr.open_dataarray(\"./datasets/tas_mmax.nc\")\n",
    "else:\n",
    "    tas_mmax = dstime[\"tas\"].resample(Time=\"1MS\").max(dim=\"Time\")\n",
    "    tas_mmax.to_netcdf(\"./datasets/tas_mmax.nc\")\n",
    "    \n",
    "    \n",
    "# Monthly min:\n",
    "if isfile(\"./datasets/tas_mmin.nc\"):\n",
    "    tas_mmin = xr.open_dataarray(\"./datasets/tas_mmin.nc\")\n",
    "else:\n",
    "    tas_mmin = dstime[\"tas\"].resample(Time=\"1MS\").min(dim=\"Time\")\n",
    "    tas_mmin.to_netcdf(\"./datasets/tas_mmin.nc\")\n",
    "    \n",
    "    \n",
    "# Monthly mean:\n",
    "if isfile(\"./datasets/tas_mmean.nc\"):\n",
    "    tas_mmean = xr.open_dataarray(\"./datasets/tas_mmean.nc\")\n",
    "else:\n",
    "    tas_mmean = dstime[\"tas\"].resample(Time=\"1MS\").mean(dim=\"Time\")\n",
    "    tas_mmean.to_netcdf(\"./datasets/tas_mmean.nc\")"
   ]
  },
  {
   "cell_type": "markdown",
   "id": "a39cadb3",
   "metadata": {},
   "source": [
    "### Precipitation"
   ]
  },
  {
   "cell_type": "code",
   "execution_count": null,
   "id": "4c10d44a",
   "metadata": {},
   "outputs": [],
   "source": [
    "# Monthly total:\n",
    "if isfile(\"./datasets/prec_mtot.nc\"):\n",
    "    prec_mtot = xr.open_dataarray(\"./datasets/prec_mtot.nc\")\n",
    "else:\n",
    "    prec_mtot = dstime[\"pr\"].resample(Time=\"1MS\").sum(dim=\"Time\")\n",
    "    prec_mtot.to_netcdf(\"./datasets/prec_mtot.nc\")"
   ]
  },
  {
   "cell_type": "markdown",
   "id": "eed134fa",
   "metadata": {},
   "source": [
    "# [BIO1] Annual Mean Temperature"
   ]
  },
  {
   "cell_type": "code",
   "execution_count": null,
   "id": "ab09d37b",
   "metadata": {},
   "outputs": [],
   "source": [
    "ds_bio1 = dstime[\"tas\"].groupby(\"Time.year\").mean(\"Time\")\n",
    "ds_bio1.to_netcdf(\"./datasets/bio1.nc\")"
   ]
  },
  {
   "cell_type": "markdown",
   "id": "d854afc7",
   "metadata": {},
   "source": [
    "# [BIO2] Mean Diurnal Range"
   ]
  },
  {
   "cell_type": "markdown",
   "id": "cfd74563",
   "metadata": {},
   "source": [
    "The mean diurnal range is defined as mean of monthly maximum temperatures and minimum temperatures, i.e.: MDR $= \\frac{1}{12} \\sum_{i=1}^{12} T_\\text{max} - T_\\text{min}$"
   ]
  },
  {
   "cell_type": "code",
   "execution_count": null,
   "id": "787ad3bb",
   "metadata": {},
   "outputs": [],
   "source": [
    "monthly_range = tas_mmax - tas_mmin\n",
    "\n",
    "ds_bio2 = monthly_range.groupby(\"Time.year\").mean(dim=\"Time\")\n",
    "ds_bio2.to_netcdf(\"./datasets/bio2.nc\")"
   ]
  },
  {
   "cell_type": "markdown",
   "id": "69e1b07e",
   "metadata": {},
   "source": [
    "# [BIO3] Isothermality"
   ]
  },
  {
   "cell_type": "markdown",
   "id": "0ae72cf6",
   "metadata": {},
   "source": [
    "Defined as: $\\frac{\\text{BIO2}}{\\text{BIO7}} \\cdot 100$\\\n",
    "Execute below cell only after computing BIO7..."
   ]
  },
  {
   "cell_type": "code",
   "execution_count": null,
   "id": "af61baec",
   "metadata": {},
   "outputs": [],
   "source": [
    "ds_bio3 = ds_bio2 / ds_bio7 * 100.\n",
    "ds_bio3.to_netcdf(\"./datasets/bio3.nc\")"
   ]
  },
  {
   "cell_type": "markdown",
   "id": "23c1f0c5",
   "metadata": {},
   "source": [
    "# [BIO4] Temperature Seasonality"
   ]
  },
  {
   "cell_type": "markdown",
   "id": "b8c1ad50",
   "metadata": {},
   "source": [
    "Temperature seasonality is defined as the standard deviation (over one year) of monthly temperature averages."
   ]
  },
  {
   "cell_type": "code",
   "execution_count": null,
   "id": "6a73218d",
   "metadata": {},
   "outputs": [],
   "source": [
    "ds_bio4 = tas_mmean.groupby(\"Time.year\").std(dim=\"Time\")\n",
    "ds_bio4.to_netcdf(\"./datasets/bio4.nc\")"
   ]
  },
  {
   "cell_type": "markdown",
   "id": "03083e9c",
   "metadata": {},
   "source": [
    "# [BIO5] Max Temperature of Warmest Month"
   ]
  },
  {
   "cell_type": "code",
   "execution_count": null,
   "id": "44ca2909",
   "metadata": {},
   "outputs": [],
   "source": [
    "ds_bio5 = tas_mmax.groupby(\"Time.year\").max(dim=\"Time\")\n",
    "ds_bio5.to_netcdf(\"./datasets/bio5.nc\")"
   ]
  },
  {
   "cell_type": "markdown",
   "id": "1e0c3bea",
   "metadata": {},
   "source": [
    "# [BIO6] Min Temperature of Coldest Month"
   ]
  },
  {
   "cell_type": "code",
   "execution_count": null,
   "id": "b297fb2f",
   "metadata": {},
   "outputs": [],
   "source": [
    "ds_bio6 = tas_mmin.groupby(\"Time.year\").min(dim=\"Time\")\n",
    "ds_bio6.to_netcdf(\"./datasets/bio6.nc\")"
   ]
  },
  {
   "cell_type": "markdown",
   "id": "ba612c26",
   "metadata": {},
   "source": [
    "# [BIO7] Temperature Annual Range"
   ]
  },
  {
   "cell_type": "markdown",
   "id": "badbf08c",
   "metadata": {},
   "source": [
    "Defined as: $\\text{BIO5} - \\text{BIO6}$"
   ]
  },
  {
   "cell_type": "code",
   "execution_count": null,
   "id": "daf54e0a",
   "metadata": {},
   "outputs": [],
   "source": [
    "ds_bio7 = ds_bio5 - ds_bio6\n",
    "ds_bio7.to_netcdf(\"./datasets/bio7.nc\")"
   ]
  },
  {
   "cell_type": "markdown",
   "id": "183a6f92",
   "metadata": {},
   "source": [
    "# [BIO8] Mean Temperature of Wettest Quarter"
   ]
  },
  {
   "cell_type": "code",
   "execution_count": null,
   "id": "947fbaf7",
   "metadata": {},
   "outputs": [],
   "source": []
  },
  {
   "cell_type": "markdown",
   "id": "0b9a4281",
   "metadata": {},
   "source": [
    "# [BIO9] Mean Temperature of Driest Quarter"
   ]
  },
  {
   "cell_type": "code",
   "execution_count": null,
   "id": "f240ae74",
   "metadata": {},
   "outputs": [],
   "source": []
  },
  {
   "cell_type": "markdown",
   "id": "906655f3",
   "metadata": {},
   "source": [
    "# [BIO10] Mean Temperature of Warmest Quarter"
   ]
  },
  {
   "cell_type": "code",
   "execution_count": null,
   "id": "7534489a",
   "metadata": {},
   "outputs": [],
   "source": []
  },
  {
   "cell_type": "markdown",
   "id": "cd654f78",
   "metadata": {},
   "source": [
    "# [BIO11] Mean Temperature of Coldest Quarter"
   ]
  },
  {
   "cell_type": "code",
   "execution_count": null,
   "id": "3434ca6a",
   "metadata": {},
   "outputs": [],
   "source": []
  },
  {
   "cell_type": "markdown",
   "id": "b3f1ed02",
   "metadata": {},
   "source": [
    "# [BIO12] Annual Precipitation"
   ]
  },
  {
   "cell_type": "code",
   "execution_count": null,
   "id": "8c34b0b6",
   "metadata": {},
   "outputs": [],
   "source": []
  },
  {
   "cell_type": "markdown",
   "id": "56bf18bc",
   "metadata": {},
   "source": [
    "# [BIO13] Precipitation of Wettest Month"
   ]
  },
  {
   "cell_type": "code",
   "execution_count": null,
   "id": "6122ab1b",
   "metadata": {},
   "outputs": [],
   "source": []
  },
  {
   "cell_type": "markdown",
   "id": "8b98b49f",
   "metadata": {},
   "source": [
    "# [BIO14] Precipitation of Driest Month"
   ]
  },
  {
   "cell_type": "code",
   "execution_count": null,
   "id": "274cb04c",
   "metadata": {},
   "outputs": [],
   "source": []
  },
  {
   "cell_type": "markdown",
   "id": "af888071",
   "metadata": {},
   "source": [
    "# [BIO15] Precipitation Seasonality"
   ]
  },
  {
   "cell_type": "code",
   "execution_count": null,
   "id": "42924b70",
   "metadata": {},
   "outputs": [],
   "source": []
  },
  {
   "cell_type": "markdown",
   "id": "b9897d91",
   "metadata": {},
   "source": [
    "# [BIO16] Precipitation of Wettest Quarter"
   ]
  },
  {
   "cell_type": "code",
   "execution_count": null,
   "id": "a7a01e9b",
   "metadata": {},
   "outputs": [],
   "source": []
  },
  {
   "cell_type": "markdown",
   "id": "5db22459",
   "metadata": {},
   "source": [
    "# [BIO17] Precipitation of Driest Quarter"
   ]
  },
  {
   "cell_type": "code",
   "execution_count": null,
   "id": "5af68d0d",
   "metadata": {},
   "outputs": [],
   "source": []
  },
  {
   "cell_type": "markdown",
   "id": "c3a8b7a9",
   "metadata": {},
   "source": [
    "# [BIO18] Precipitation of Warmest Quarter"
   ]
  },
  {
   "cell_type": "code",
   "execution_count": null,
   "id": "fb850d6f",
   "metadata": {},
   "outputs": [],
   "source": []
  },
  {
   "cell_type": "markdown",
   "id": "944a4a39",
   "metadata": {},
   "source": [
    "# [BIO19] Precipitation of Coldest Quarter"
   ]
  },
  {
   "cell_type": "code",
   "execution_count": null,
   "id": "40c45c5a",
   "metadata": {},
   "outputs": [],
   "source": []
  }
 ],
 "metadata": {
  "kernelspec": {
   "display_name": "Python 3 (ipykernel)",
   "language": "python",
   "name": "python3"
  },
  "language_info": {
   "codemirror_mode": {
    "name": "ipython",
    "version": 3
   },
   "file_extension": ".py",
   "mimetype": "text/x-python",
   "name": "python",
   "nbconvert_exporter": "python",
   "pygments_lexer": "ipython3",
   "version": "3.11.5"
  }
 },
 "nbformat": 4,
 "nbformat_minor": 5
}
