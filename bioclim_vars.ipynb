{
 "cells": [
  {
   "cell_type": "markdown",
   "id": "c775a80e",
   "metadata": {},
   "source": [
    "# Bioclimatic variables"
   ]
  },
  {
   "cell_type": "markdown",
   "id": "cad03ea7",
   "metadata": {},
   "source": [
    "Compute the bioclimatic variables as defined in https://pubs.usgs.gov/ds/691/ds691.pdf. Here are the variables from the dataset to compare results: https://worldclim.org/data/worldclim21.html."
   ]
  },
  {
   "cell_type": "code",
   "execution_count": null,
   "id": "709f304b",
   "metadata": {},
   "outputs": [],
   "source": [
    "import xarray as xr\n",
    "import matplotlib.pyplot as plt\n",
    "import numpy as np\n",
    "from os.path import isfile, exists\n",
    "from os import mkdir"
   ]
  },
  {
   "cell_type": "code",
   "execution_count": null,
   "id": "e5b7d8ff",
   "metadata": {},
   "outputs": [],
   "source": [
    "dsspat = xr.open_zarr(\"https://openstack.cebitec.uni-bielefeld.de:8080/swift/v1/DWDCube/cube_spatial.zarr/\")\n",
    "dstime = xr.open_zarr(\"https://openstack.cebitec.uni-bielefeld.de:8080/swift/v1/DWDCube/cube_temporal.zarr/\")\n",
    "subset = dstime.isel(Time=range(0, 2*365+1)) #two year subset for faster testing"
   ]
  },
  {
   "cell_type": "code",
   "execution_count": null,
   "id": "16232abb-053c-4db8-94dd-69bda6f0d87d",
   "metadata": {},
   "outputs": [],
   "source": [
    "# Lets look at the data\n",
    "dstime"
   ]
  },
  {
   "cell_type": "code",
   "execution_count": null,
   "id": "d1d43fcc-59a9-4ad4-90b4-3287051a481d",
   "metadata": {},
   "outputs": [],
   "source": [
    "# Check for a folder to save the data\n",
    "if not exists(\"./datasets\"):\n",
    "    mkdir(\"./datasets\")"
   ]
  },
  {
   "cell_type": "markdown",
   "id": "e8216152",
   "metadata": {},
   "source": [
    "# Intermediate variables"
   ]
  },
  {
   "cell_type": "markdown",
   "id": "de0ed8f1-1335-4a57-a995-04f30d709071",
   "metadata": {},
   "source": [
    "The original definitions are based on daily maximum and minimum temperatures, which our data does not have. We only have daily mean temperatures. So there will be an inherent difference between our calculations and the data from worldclim."
   ]
  },
  {
   "cell_type": "markdown",
   "id": "ee0e4713",
   "metadata": {},
   "source": [
    "### Temperature"
   ]
  },
  {
   "cell_type": "code",
   "execution_count": null,
   "id": "567e46e0",
   "metadata": {},
   "outputs": [],
   "source": [
    "# Monthly max:\n",
    "if isfile(\"./datasets/tas_mmax.nc\"):\n",
    "    tas_mmax = xr.open_dataarray(\"./datasets/tas_mmax.nc\")\n",
    "else:\n",
    "    tas_mmax = dstime[\"tas\"].resample(Time=\"1MS\").max(dim=\"Time\")\n",
    "    tas_mmax.to_netcdf(\"./datasets/tas_mmax.nc\")\n",
    "    \n",
    "    \n",
    "# Monthly min:\n",
    "if isfile(\"./datasets/tas_mmin.nc\"):\n",
    "    tas_mmin = xr.open_dataarray(\"./datasets/tas_mmin.nc\")\n",
    "else:\n",
    "    tas_mmin = dstime[\"tas\"].resample(Time=\"1MS\").min(dim=\"Time\")\n",
    "    tas_mmin.to_netcdf(\"./datasets/tas_mmin.nc\")\n",
    "    \n",
    "    \n",
    "# Monthly mean:\n",
    "if isfile(\"./datasets/tas_mmean.nc\"):\n",
    "    tas_mmean = xr.open_dataarray(\"./datasets/tas_mmean.nc\")\n",
    "else:\n",
    "    tas_mmean = dstime[\"tas\"].resample(Time=\"1MS\").mean(dim=\"Time\")\n",
    "    tas_mmean.to_netcdf(\"./datasets/tas_mmean.nc\")"
   ]
  },
  {
   "cell_type": "markdown",
   "id": "a39cadb3",
   "metadata": {},
   "source": [
    "### Precipitation"
   ]
  },
  {
   "cell_type": "code",
   "execution_count": null,
   "id": "4c10d44a",
   "metadata": {},
   "outputs": [],
   "source": [
    "# Monthly total:\n",
    "if isfile(\"./datasets/prec_mtot.nc\"):\n",
    "    prec_mtot = xr.open_dataarray(\"./datasets/prec_mtot.nc\")\n",
    "else:\n",
    "    prec_mtot = dstime[\"pr\"].resample(Time=\"1MS\").sum(dim=\"Time\") * 86400 #convert from flux to total in mm\n",
    "    prec_mtot = prec_mtot.assign_attrs({\"standard_name\": \"total_precipitation\", \"units\": \"mm\"})\n",
    "    prec_mtot.to_netcdf(\"./datasets/prec_mtot.nc\")"
   ]
  },
  {
   "cell_type": "markdown",
   "id": "eed134fa",
   "metadata": {},
   "source": [
    "# [BIO1] Annual Mean Temperature"
   ]
  },
  {
   "cell_type": "markdown",
   "id": "b3e2734e-a375-4abc-b1c2-099df08e0226",
   "metadata": {},
   "source": [
    "The annual mean temperature is defined as the average of all the 12 monthly averages."
   ]
  },
  {
   "cell_type": "code",
   "execution_count": null,
   "id": "ab09d37b",
   "metadata": {},
   "outputs": [],
   "source": [
    "ds_bio1 = tas_mmean.groupby(\"Time.year\").mean(\"Time\")-273.15\n",
    "ds_bio1.rename(\"BIO1\").assign_attrs(name=\"BIO1\", standard_name=\"BIO1\", long_name=\"Annual Mean Temperature\", units=\"°C\").to_netcdf(\"./datasets/bio1.nc\")"
   ]
  },
  {
   "cell_type": "markdown",
   "id": "d854afc7",
   "metadata": {},
   "source": [
    "# [BIO2] Mean Diurnal Range"
   ]
  },
  {
   "cell_type": "markdown",
   "id": "cfd74563",
   "metadata": {},
   "source": [
    "The mean diurnal range is defined as mean of monthly maximum temperatures and minimum temperatures, i.e.: MDR $= \\frac{1}{12} \\sum_{i=1}^{12} T_\\text{max} - T_\\text{min}$"
   ]
  },
  {
   "cell_type": "code",
   "execution_count": null,
   "id": "787ad3bb",
   "metadata": {},
   "outputs": [],
   "source": [
    "monthly_range = tas_mmax - tas_mmin\n",
    "\n",
    "ds_bio2 = monthly_range.groupby(\"Time.year\").mean(dim=\"Time\")\n",
    "ds_bio2.rename(\"BIO2\").assign_attrs(name=\"BIO2\", standard_name=\"BIO2\", long_name=\"Annual Mean Diurnal Range\",units=\"°C\").to_netcdf(\"./datasets/bio2.nc\")"
   ]
  },
  {
   "cell_type": "markdown",
   "id": "23c1f0c5",
   "metadata": {},
   "source": [
    "# [BIO4] Temperature Seasonality"
   ]
  },
  {
   "cell_type": "markdown",
   "id": "b8c1ad50",
   "metadata": {},
   "source": [
    "Temperature seasonality is defined as the standard deviation (over one year) of monthly temperature averages."
   ]
  },
  {
   "cell_type": "code",
   "execution_count": null,
   "id": "6a73218d",
   "metadata": {},
   "outputs": [],
   "source": [
    "ds_bio4 = tas_mmean.groupby(\"Time.year\").std(dim=\"Time\")\n",
    "ds_bio4.rename(\"BIO4\").assign_attrs(name=\"BIO4\", standard_name=\"BIO4\", long_name=\"Temperature Seasonality\", units=\"°C\").to_netcdf(\"./datasets/bio4.nc\")"
   ]
  },
  {
   "cell_type": "markdown",
   "id": "03083e9c",
   "metadata": {},
   "source": [
    "# [BIO5] Max Temperature of Warmest Month"
   ]
  },
  {
   "cell_type": "code",
   "execution_count": null,
   "id": "44ca2909",
   "metadata": {},
   "outputs": [],
   "source": [
    "ds_bio5 = tas_mmax.groupby(\"Time.year\").max(dim=\"Time\")-273.15\n",
    "ds_bio5.rename(\"BIO5\").assign_attrs(name=\"BIO5\", standard_name=\"BIO5\", long_name=\"Max Temperature of Warmest Month\", units=\"°C\").to_netcdf(\"./datasets/bio5.nc\")"
   ]
  },
  {
   "cell_type": "markdown",
   "id": "1e0c3bea",
   "metadata": {},
   "source": [
    "# [BIO6] Min Temperature of Coldest Month"
   ]
  },
  {
   "cell_type": "code",
   "execution_count": null,
   "id": "b297fb2f",
   "metadata": {},
   "outputs": [],
   "source": [
    "ds_bio6 = tas_mmin.groupby(\"Time.year\").min(dim=\"Time\")-273.15\n",
    "ds_bio6.rename(\"BIO6\").assign_attrs(name=\"BIO6\", standard_name=\"BIO6\", long_name=\"Min Temperature of Coldest Month\", units=\"°C\").to_netcdf(\"./datasets/bio6.nc\")"
   ]
  },
  {
   "cell_type": "markdown",
   "id": "ba612c26",
   "metadata": {},
   "source": [
    "# [BIO7] Temperature Annual Range"
   ]
  },
  {
   "cell_type": "markdown",
   "id": "badbf08c",
   "metadata": {},
   "source": [
    "Defined as: $\\text{BIO5} - \\text{BIO6}$"
   ]
  },
  {
   "cell_type": "code",
   "execution_count": null,
   "id": "daf54e0a",
   "metadata": {},
   "outputs": [],
   "source": [
    "ds_bio7 = ds_bio5 - ds_bio6 \n",
    "ds_bio7.rename(\"BIO7\").assign_attrs(name=\"BIO7\", standard_name=\"BIO7\", long_name=\"Annual Temperature Range\", units=\"°C\").to_netcdf(\"./datasets/bio7.nc\")"
   ]
  },
  {
   "cell_type": "markdown",
   "id": "dde04b4f",
   "metadata": {},
   "source": [
    "# [BIO3] Isothermality"
   ]
  },
  {
   "cell_type": "markdown",
   "id": "4d5f014e",
   "metadata": {},
   "source": [
    "Isothermality quantifies how large the day-to-night temperatures oscillate relative to the summer-to-winter (annual) oscillations.\n",
    "Defined as: $\\frac{\\text{BIO2}}{\\text{BIO7}} \\cdot 100$\\\n",
    "\n",
    "It does not make much sense to compute this since we dont have daily maximum and minimum temperatures, but we'll do it anyways.\n",
    "\n",
    "Execute below cell only after computing BIO7..."
   ]
  },
  {
   "cell_type": "code",
   "execution_count": null,
   "id": "8fff2674",
   "metadata": {},
   "outputs": [],
   "source": [
    "ds_bio3 = ds_bio2 / ds_bio7 * 100.\n",
    "ds_bio3.rename(\"BIO3\").assign_attrs(name=\"BIO3\", standard_name=\"BIO3\", long_name=\"Isothermality\", units=\"%\").to_netcdf(\"./datasets/bio3.nc\")"
   ]
  },
  {
   "cell_type": "markdown",
   "id": "183a6f92",
   "metadata": {},
   "source": [
    "# [BIO8/9] Mean Temperature of Wettest/Driest Quarter"
   ]
  },
  {
   "cell_type": "markdown",
   "id": "116342c3",
   "metadata": {},
   "source": [
    "In our [reference](https://pubs.usgs.gov/ds/691/ds691.pdf), the quartals are defined as 12 rolling three month windows looking forward, i.e., Jan-Feb-Mar, Feb-Mar-Apr, ..., Okt-Nov-Dec, Nov-Dec-Jan, Dec-Jan-Feb (12 in total). xarrays rolling functionality only does backwards or centered rolling windows. Then, we first invert the data along the time dimension, we do the rolling sum/mean, and we invert the result."
   ]
  },
  {
   "cell_type": "code",
   "execution_count": null,
   "id": "6f9dcd94-aa2d-4383-bee5-6baf6f92ff63",
   "metadata": {},
   "outputs": [],
   "source": [
    "quarterly_precsum = prec_mtot[::-1].rolling({\"Time\":3}, min_periods=1).sum()[::-1]\n",
    "quarterly_tasmean = tas_mmean[::-1].rolling({\"Time\":3}, min_periods=1).mean()[::-1]"
   ]
  },
  {
   "cell_type": "code",
   "execution_count": null,
   "id": "f78d6b19-2b3c-49b2-8ccb-4903f15ce210",
   "metadata": {},
   "outputs": [],
   "source": [
    "# argmax and argmin are not available for groupby so we have to apply them with a workaround\n",
    "wettest_quarters = quarterly_precsum.groupby(\"Time.year\").apply(lambda c: c.argmax(dim=\"Time\"))\n",
    "driest_quarters = quarterly_precsum.groupby(\"Time.year\").apply(lambda c: c.argmin(dim=\"Time\"))"
   ]
  },
  {
   "cell_type": "code",
   "execution_count": null,
   "id": "e64043d3-178b-4958-9b0e-af79737c108e",
   "metadata": {},
   "outputs": [],
   "source": [
    "# we need to select the corresponding index of wettest_quarters or driest_quarters for each year\n",
    "# let's make a function to do that\n",
    "# The function extracts the year of each group, and selects the index of the group based on the index of the corresponding year\n",
    "def isel_index(group, index):\n",
    "    yy = group.Time.dt.year.values[0]\n",
    "    return group.isel(Time=index.sel(year=yy))"
   ]
  },
  {
   "cell_type": "code",
   "execution_count": null,
   "id": "168f7524-2a01-469c-8dab-82ac0be4fddf",
   "metadata": {},
   "outputs": [],
   "source": [
    "ds_bio8 = quarterly_tasmean.groupby(\"Time.year\").apply(isel_index, index=wettest_quarters)-273.15\n",
    "ds_bio9 = quarterly_tasmean.groupby(\"Time.year\").apply(isel_index, index=driest_quarters)-273.15"
   ]
  },
  {
   "cell_type": "markdown",
   "id": "5eb902c6-eb91-4a66-a655-e71264dcd91c",
   "metadata": {},
   "source": [
    "Let's check that it worked as expected. The BIO8 for the 5th year is (at a random point 500,500):\n"
   ]
  },
  {
   "cell_type": "code",
   "execution_count": null,
   "id": "f618f424-e639-472a-a10c-3b5098a577bb",
   "metadata": {},
   "outputs": [],
   "source": [
    "ds_bio8[4,500,500]"
   ]
  },
  {
   "cell_type": "markdown",
   "id": "7e6915d4-f920-4e07-ac9b-df21816553ea",
   "metadata": {},
   "source": [
    "The wettest quarter in the fifth year at that point is:"
   ]
  },
  {
   "cell_type": "code",
   "execution_count": null,
   "id": "86d37be3-d314-47b1-a232-d951d37361e2",
   "metadata": {},
   "outputs": [],
   "source": [
    "wettest_quarters[4, 500, 500].values"
   ]
  },
  {
   "cell_type": "markdown",
   "id": "8b2dd148-8dfe-4e97-8986-8d202fef9f8a",
   "metadata": {},
   "source": [
    "Let's check that that is true:"
   ]
  },
  {
   "cell_type": "code",
   "execution_count": null,
   "id": "5c56a2da-7970-409e-92d0-6db6f4018f86",
   "metadata": {},
   "outputs": [],
   "source": [
    "quarterly_precsum[12*4:12*5, 500, 500]"
   ]
  },
  {
   "cell_type": "markdown",
   "id": "1a7aab5d-25b2-418a-a63e-8e0387a91d2f",
   "metadata": {},
   "source": [
    "Indeed, the value at index=7 is the maximum. Then, the mean temperature at index=7 for year 5 is:"
   ]
  },
  {
   "cell_type": "code",
   "execution_count": null,
   "id": "7796c072-1130-4245-9200-d7ff9fa09a59",
   "metadata": {},
   "outputs": [],
   "source": [
    "quarterly_tasmean[12*4+7, 500, 500]-273.15"
   ]
  },
  {
   "cell_type": "markdown",
   "id": "1f1f6981-beaa-498f-b553-318994b29591",
   "metadata": {},
   "source": [
    "Which is indeed the same value as the one in BIO8 (with some rounding error)."
   ]
  },
  {
   "cell_type": "markdown",
   "id": "f791d544-0850-42ce-b5cc-942240ce6d95",
   "metadata": {},
   "source": [
    "Let's save the datasets:"
   ]
  },
  {
   "cell_type": "code",
   "execution_count": null,
   "id": "ae8221c4-ee78-4e81-9205-85d78120ecee",
   "metadata": {},
   "outputs": [],
   "source": [
    "ds_bio8.rename(\"BIO8\").assign_attrs(name=\"BIO8\", standard_name=\"BIO8\", long_name=\"Mean Temperature of Wettest Quarter\", units=\"°C\").to_netcdf(\"./datasets/bio8.nc\")\n",
    "ds_bio9.rename(\"BIO9\").assign_attrs(name=\"BIO9\", standard_name=\"BIO9\", long_name=\"Mean Temperature of Driest Quarter\", units=\"°C\").to_netcdf(\"./datasets/bio9.nc\")"
   ]
  },
  {
   "cell_type": "markdown",
   "id": "906655f3",
   "metadata": {},
   "source": [
    "# [BIO10/11] Mean Temperature of Warmest/Coldest Quarter"
   ]
  },
  {
   "cell_type": "markdown",
   "id": "eed86375-b7d9-4af2-8cc8-cc1a598d9319",
   "metadata": {},
   "source": [
    "Analogously as before:"
   ]
  },
  {
   "cell_type": "code",
   "execution_count": null,
   "id": "6a75a204-00c0-4b21-85a1-bbde2cfb8c16",
   "metadata": {},
   "outputs": [],
   "source": [
    "# argmax and argmin are not available for groupby so we have to apply them with a workaround\n",
    "warmest_quarters = quarterly_tasmean.groupby(\"Time.year\").apply(lambda c: c.argmax(dim=\"Time\"))\n",
    "coldest_quarters = quarterly_tasmean.groupby(\"Time.year\").apply(lambda c: c.argmin(dim=\"Time\"))\n",
    "\n",
    "ds_bio10 = quarterly_tasmean.groupby(\"Time.year\").apply(isel_index, index=warmest_quarters)-273.15\n",
    "ds_bio11 = quarterly_tasmean.groupby(\"Time.year\").apply(isel_index, index=coldest_quarters)-273.15"
   ]
  },
  {
   "cell_type": "markdown",
   "id": "e65cfb05-8f71-48ae-8602-2634920bda8d",
   "metadata": {},
   "source": [
    "(the original definition is based on the sum of the monthly values of each quarter, but since the location of the maximum of the quarters sum or the quarters mean is the same, we reuse the quarters mean since we already calculated them)."
   ]
  },
  {
   "cell_type": "code",
   "execution_count": null,
   "id": "97300a17",
   "metadata": {},
   "outputs": [],
   "source": [
    "# Save:\n",
    "ds_bio10.rename(\"BIO10\").assign_attrs(name=\"BIO10\", standard_name=\"BIO10\", long_name=\"Mean Temperature of Warmest Quarter\", units=\"°C\").to_netcdf(\"./datasets/bio10.nc\")\n",
    "ds_bio11.rename(\"BIO11\").assign_attrs(name=\"BIO11\", standard_name=\"BIO11\", long_name=\"Mean Temperature of Coldest Quarter\", units=\"°C\").to_netcdf(\"./datasets/bio11.nc\")"
   ]
  },
  {
   "cell_type": "markdown",
   "id": "b3f1ed02",
   "metadata": {},
   "source": [
    "# [BIO12] Annual Precipitation"
   ]
  },
  {
   "cell_type": "code",
   "execution_count": null,
   "id": "8c34b0b6",
   "metadata": {},
   "outputs": [],
   "source": [
    "ds_bio12 = prec_mtot.groupby(\"Time.year\").sum(dim=\"Time\")\n",
    "ds_bio12.rename(\"BIO12\").assign_attrs(name=\"BIO12\", standard_name=\"BIO12\", long_name=\"Annual Precipitation\", units=\"mm\").to_netcdf(\"./datasets/bio12.nc\")"
   ]
  },
  {
   "cell_type": "markdown",
   "id": "56bf18bc",
   "metadata": {},
   "source": [
    "# [BIO13] Precipitation of Wettest Month"
   ]
  },
  {
   "cell_type": "code",
   "execution_count": null,
   "id": "6122ab1b",
   "metadata": {},
   "outputs": [],
   "source": [
    "ds_bio13 = prec_mtot.groupby(\"Time.year\").max(dim=\"Time\")\n",
    "ds_bio13.rename(\"BIO13\").assign_attrs(name=\"BIO13\", standard_name=\"BIO13\", long_name=\"Precipitation of Wettest Month\", units=\"mm\").to_netcdf(\"./datasets/bio13.nc\")"
   ]
  },
  {
   "cell_type": "markdown",
   "id": "8b98b49f",
   "metadata": {},
   "source": [
    "# [BIO14] Precipitation of Driest Month"
   ]
  },
  {
   "cell_type": "code",
   "execution_count": null,
   "id": "274cb04c",
   "metadata": {},
   "outputs": [],
   "source": [
    "ds_bio14 = prec_mtot.groupby(\"Time.year\").min(dim=\"Time\")\n",
    "ds_bio14.rename(\"BIO14\").assign_attrs(name=\"BIO14\", standard_name=\"BIO14\", long_name=\"Precipitation of Driest Month\", units=\"mm\").to_netcdf(\"./datasets/bio14.nc\")"
   ]
  },
  {
   "cell_type": "markdown",
   "id": "af888071",
   "metadata": {},
   "source": [
    "# [BIO15] Precipitation Seasonality"
   ]
  },
  {
   "cell_type": "markdown",
   "id": "f9fd75b7",
   "metadata": {},
   "source": [
    "Precipitation seasonality in a given year is defined as: \n",
    "$$\n",
    "\\frac{\\sigma(P_i)}{1 + \\text{BIO12}\\,/\\,12} \\cdot 100 \\quad \\text{for}\\, i \\in [1,12]\n",
    "$$"
   ]
  },
  {
   "cell_type": "code",
   "execution_count": null,
   "id": "cb612975",
   "metadata": {},
   "outputs": [],
   "source": [
    "ds_bio15 = prec_mtot.groupby(\"Time.year\").std(dim=\"Time\") / (1. + ds_bio12/12.) * 100\n",
    "ds_bio15.rename(\"BIO15\").assign_attrs(name=\"BIO15\", standard_name=\"BIO15\", long_name=\"Precipitation Seasonality (CV)\", units=\"%\").to_netcdf(\"./datasets/bio15.nc\")"
   ]
  },
  {
   "cell_type": "markdown",
   "id": "b9897d91",
   "metadata": {},
   "source": [
    "# [BIO16/17] Precipitation of Wettest/Driest Quarter"
   ]
  },
  {
   "cell_type": "code",
   "execution_count": null,
   "id": "28a8e7d7-cc56-4819-9856-3d97c9b3395b",
   "metadata": {},
   "outputs": [],
   "source": [
    "# analogous to BIO8-11\n",
    "ds_bio16 = quarterly_precsum.groupby(\"Time.year\").apply(isel_index, index=wettest_quarters)\n",
    "ds_bio17 = quarterly_precsum.groupby(\"Time.year\").apply(isel_index, index=driest_quarters)"
   ]
  },
  {
   "cell_type": "code",
   "execution_count": null,
   "id": "27a621fb",
   "metadata": {},
   "outputs": [],
   "source": [
    "# Save:\n",
    "ds_bio16.rename(\"BIO16\").assign_attrs(name=\"BIO16\", standard_name=\"BIO16\", long_name=\"Precipitation of Wettest Quarter\", units=\"mm\").to_netcdf(\"./datasets/bio16.nc\")\n",
    "ds_bio17.rename(\"BIO17\").assign_attrs(name=\"BIO17\", standard_name=\"BIO17\", long_name=\"Precipitation of Driest Quarter\", units=\"mm\").to_netcdf(\"./datasets/bio17.nc\")"
   ]
  },
  {
   "cell_type": "markdown",
   "id": "c3a8b7a9",
   "metadata": {},
   "source": [
    "# [BIO18/19] Precipitation of Warmest/Coldest Quarter"
   ]
  },
  {
   "cell_type": "code",
   "execution_count": null,
   "id": "189ccbcd-9612-4455-b8b6-b4d996ca5b86",
   "metadata": {},
   "outputs": [],
   "source": [
    "# analogous to BIO8-11\n",
    "ds_bio18 = quarterly_precsum.groupby(\"Time.year\").apply(isel_index, index=warmest_quarters)\n",
    "ds_bio19 = quarterly_precsum.groupby(\"Time.year\").apply(isel_index, index=coldest_quarters)"
   ]
  },
  {
   "cell_type": "code",
   "execution_count": null,
   "id": "fb850d6f",
   "metadata": {},
   "outputs": [],
   "source": [
    "# Save:\n",
    "ds_bio18.rename(\"BIO18\").assign_attrs(name=\"BIO18\", standard_name=\"BIO18\", long_name=\"Precipitation of Warmest Quarter\", units=\"mm\").to_netcdf(\"./datasets/bio18.nc\")\n",
    "ds_bio19.rename(\"BIO19\").assign_attrs(name=\"BIO19\", standard_name=\"BIO19\", long_name=\"Precipitation of Coldest Quarter\", units=\"mm\").to_netcdf(\"./datasets/bio19.nc\")"
   ]
  },
  {
   "cell_type": "code",
   "execution_count": null,
   "id": "9c99e7fb",
   "metadata": {},
   "outputs": [],
   "source": []
  }
 ],
 "metadata": {
  "kernelspec": {
   "display_name": "Python 3 (ipykernel)",
   "language": "python",
   "name": "python3"
  },
  "language_info": {
   "codemirror_mode": {
    "name": "ipython",
    "version": 3
   },
   "file_extension": ".py",
   "mimetype": "text/x-python",
   "name": "python",
   "nbconvert_exporter": "python",
   "pygments_lexer": "ipython3",
   "version": "3.11.5"
  }
 },
 "nbformat": 4,
 "nbformat_minor": 5
}
